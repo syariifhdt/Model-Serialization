{
  "nbformat": 4,
  "nbformat_minor": 0,
  "metadata": {
    "colab": {
      "provenance": []
    },
    "kernelspec": {
      "name": "python3",
      "display_name": "Python 3"
    },
    "language_info": {
      "name": "python"
    }
  },
  "cells": [
    {
      "cell_type": "code",
      "execution_count": 1,
      "metadata": {
        "colab": {
          "base_uri": "https://localhost:8080/"
        },
        "id": "mwqmfQjqVuoI",
        "outputId": "76bdf46a-bdf0-451e-d578-447e98bf4fe7"
      },
      "outputs": [
        {
          "output_type": "stream",
          "name": "stdout",
          "text": [
            "Collecting onnx\n",
            "  Downloading onnx-1.17.0-cp310-cp310-manylinux_2_17_x86_64.manylinux2014_x86_64.whl.metadata (16 kB)\n",
            "Collecting onnxruntime\n",
            "  Downloading onnxruntime-1.20.1-cp310-cp310-manylinux_2_27_x86_64.manylinux_2_28_x86_64.whl.metadata (4.5 kB)\n",
            "Requirement already satisfied: numpy>=1.20 in /usr/local/lib/python3.10/dist-packages (from onnx) (1.26.4)\n",
            "Requirement already satisfied: protobuf>=3.20.2 in /usr/local/lib/python3.10/dist-packages (from onnx) (4.25.5)\n",
            "Collecting coloredlogs (from onnxruntime)\n",
            "  Downloading coloredlogs-15.0.1-py2.py3-none-any.whl.metadata (12 kB)\n",
            "Requirement already satisfied: flatbuffers in /usr/local/lib/python3.10/dist-packages (from onnxruntime) (24.3.25)\n",
            "Requirement already satisfied: packaging in /usr/local/lib/python3.10/dist-packages (from onnxruntime) (24.2)\n",
            "Requirement already satisfied: sympy in /usr/local/lib/python3.10/dist-packages (from onnxruntime) (1.13.1)\n",
            "Collecting humanfriendly>=9.1 (from coloredlogs->onnxruntime)\n",
            "  Downloading humanfriendly-10.0-py2.py3-none-any.whl.metadata (9.2 kB)\n",
            "Requirement already satisfied: mpmath<1.4,>=1.1.0 in /usr/local/lib/python3.10/dist-packages (from sympy->onnxruntime) (1.3.0)\n",
            "Downloading onnx-1.17.0-cp310-cp310-manylinux_2_17_x86_64.manylinux2014_x86_64.whl (16.0 MB)\n",
            "\u001b[2K   \u001b[90m━━━━━━━━━━━━━━━━━━━━━━━━━━━━━━━━━━━━━━━━\u001b[0m \u001b[32m16.0/16.0 MB\u001b[0m \u001b[31m77.7 MB/s\u001b[0m eta \u001b[36m0:00:00\u001b[0m\n",
            "\u001b[?25hDownloading onnxruntime-1.20.1-cp310-cp310-manylinux_2_27_x86_64.manylinux_2_28_x86_64.whl (13.3 MB)\n",
            "\u001b[2K   \u001b[90m━━━━━━━━━━━━━━━━━━━━━━━━━━━━━━━━━━━━━━━━\u001b[0m \u001b[32m13.3/13.3 MB\u001b[0m \u001b[31m79.7 MB/s\u001b[0m eta \u001b[36m0:00:00\u001b[0m\n",
            "\u001b[?25hDownloading coloredlogs-15.0.1-py2.py3-none-any.whl (46 kB)\n",
            "\u001b[2K   \u001b[90m━━━━━━━━━━━━━━━━━━━━━━━━━━━━━━━━━━━━━━━━\u001b[0m \u001b[32m46.0/46.0 kB\u001b[0m \u001b[31m2.8 MB/s\u001b[0m eta \u001b[36m0:00:00\u001b[0m\n",
            "\u001b[?25hDownloading humanfriendly-10.0-py2.py3-none-any.whl (86 kB)\n",
            "\u001b[2K   \u001b[90m━━━━━━━━━━━━━━━━━━━━━━━━━━━━━━━━━━━━━━━━\u001b[0m \u001b[32m86.8/86.8 kB\u001b[0m \u001b[31m5.6 MB/s\u001b[0m eta \u001b[36m0:00:00\u001b[0m\n",
            "\u001b[?25hInstalling collected packages: onnx, humanfriendly, coloredlogs, onnxruntime\n",
            "Successfully installed coloredlogs-15.0.1 humanfriendly-10.0 onnx-1.17.0 onnxruntime-1.20.1\n"
          ]
        }
      ],
      "source": [
        "pip install onnx onnxruntime"
      ]
    },
    {
      "cell_type": "code",
      "source": [
        "pip install skl2onnx"
      ],
      "metadata": {
        "colab": {
          "base_uri": "https://localhost:8080/"
        },
        "id": "75xkSEnWV9CV",
        "outputId": "e45b6200-b596-4087-f5f8-8eeea4a4ee4b"
      },
      "execution_count": 1,
      "outputs": [
        {
          "output_type": "stream",
          "name": "stdout",
          "text": [
            "Requirement already satisfied: skl2onnx in /usr/local/lib/python3.10/dist-packages (1.17.0)\n",
            "Requirement already satisfied: onnx>=1.2.1 in /usr/local/lib/python3.10/dist-packages (from skl2onnx) (1.17.0)\n",
            "Requirement already satisfied: scikit-learn>=1.1 in /usr/local/lib/python3.10/dist-packages (from skl2onnx) (1.5.2)\n",
            "Requirement already satisfied: onnxconverter-common>=1.7.0 in /usr/local/lib/python3.10/dist-packages (from skl2onnx) (1.14.0)\n",
            "Requirement already satisfied: numpy>=1.20 in /usr/local/lib/python3.10/dist-packages (from onnx>=1.2.1->skl2onnx) (1.26.4)\n",
            "Requirement already satisfied: protobuf>=3.20.2 in /usr/local/lib/python3.10/dist-packages (from onnx>=1.2.1->skl2onnx) (3.20.2)\n",
            "Requirement already satisfied: packaging in /usr/local/lib/python3.10/dist-packages (from onnxconverter-common>=1.7.0->skl2onnx) (24.2)\n",
            "Requirement already satisfied: scipy>=1.6.0 in /usr/local/lib/python3.10/dist-packages (from scikit-learn>=1.1->skl2onnx) (1.13.1)\n",
            "Requirement already satisfied: joblib>=1.2.0 in /usr/local/lib/python3.10/dist-packages (from scikit-learn>=1.1->skl2onnx) (1.4.2)\n",
            "Requirement already satisfied: threadpoolctl>=3.1.0 in /usr/local/lib/python3.10/dist-packages (from scikit-learn>=1.1->skl2onnx) (3.5.0)\n"
          ]
        }
      ]
    },
    {
      "cell_type": "code",
      "source": [
        "import time\n",
        "import os\n",
        "import pickle\n",
        "import joblib\n",
        "import tensorflow as tf\n",
        "import onnx\n",
        "import numpy as np\n",
        "from sklearn.datasets import load_iris\n",
        "from sklearn.model_selection import train_test_split\n",
        "from sklearn.linear_model import LogisticRegression\n",
        "import skl2onnx\n",
        "from skl2onnx import convert_sklearn\n",
        "from skl2onnx.common.data_types import FloatTensorType\n",
        "import onnxruntime as ort\n",
        "\n",
        "# Load Iris dataset\n",
        "iris = load_iris()\n",
        "X = iris.data\n",
        "y = iris.target\n",
        "\n",
        "# Split dataset\n",
        "X_train, X_test, y_train, y_test = train_test_split(X, y, test_size=0.2, random_state=42)\n",
        "\n",
        "# Create a Logistic Regression model\n",
        "model = LogisticRegression(max_iter=200)\n",
        "model.fit(X_train, y_train)\n",
        "\n",
        "# Function to measure performance\n",
        "def measure_performance(model, X_test):\n",
        "    results = {}\n",
        "\n",
        "    # --- 1. Pickle ---\n",
        "    start_time = time.time()\n",
        "    with open('model_pickle.pkl', 'wb') as f:\n",
        "        pickle.dump(model, f)\n",
        "    pickle_save_time = time.time() - start_time\n",
        "\n",
        "    start_time = time.time()\n",
        "    with open('model_pickle.pkl', 'rb') as f:\n",
        "        loaded_model_pickle = pickle.load(f)\n",
        "    pickle_load_time = time.time() - start_time\n",
        "\n",
        "    pickle_file_size = os.path.getsize('model_pickle.pkl')\n",
        "\n",
        "    start_time = time.time()\n",
        "    pickle_pred = loaded_model_pickle.predict(X_test)\n",
        "    pickle_predict_time = time.time() - start_time\n",
        "\n",
        "    # --- 2. Joblib ---\n",
        "    start_time = time.time()\n",
        "    joblib.dump(model, 'model_joblib.pkl')\n",
        "    joblib_save_time = time.time() - start_time\n",
        "\n",
        "    start_time = time.time()\n",
        "    loaded_model_joblib = joblib.load('model_joblib.pkl')\n",
        "    joblib_load_time = time.time() - start_time\n",
        "\n",
        "    joblib_file_size = os.path.getsize('model_joblib.pkl')\n",
        "\n",
        "    start_time = time.time()\n",
        "    joblib_pred = loaded_model_joblib.predict(X_test)\n",
        "    joblib_predict_time = time.time() - start_time\n",
        "\n",
        "    # --- 3. ONNX ---\n",
        "    onnx_model = convert_sklearn(model, initial_types=[('input', FloatTensorType([None, X_train.shape[1]]))])\n",
        "    onnx.save_model(onnx_model, 'model.onnx')\n",
        "\n",
        "    onnx_save_time = time.time() - start_time\n",
        "\n",
        "    onnx_file_size = os.path.getsize('model.onnx')\n",
        "\n",
        "    start_time = time.time()\n",
        "    onnx_model_loaded = onnx.load('model.onnx')\n",
        "    onnx_load_time = time.time() - start_time\n",
        "\n",
        "    onnx_session = ort.InferenceSession('model.onnx')\n",
        "    start_time = time.time()\n",
        "    onnx_pred = onnx_session.run(None, {'input': X_test.astype(np.float32)})[0]\n",
        "    onnx_predict_time = time.time() - start_time\n",
        "\n",
        "    # --- 4. TensorFlow ---\n",
        "    keras_model = tf.keras.Sequential([\n",
        "        tf.keras.layers.Dense(3, activation='softmax', input_dim=X_train.shape[1])\n",
        "    ])\n",
        "    keras_model.compile(loss='sparse_categorical_crossentropy', optimizer='adam', metrics=['accuracy'])\n",
        "    keras_model.fit(X_train, y_train, epochs=10, verbose=0)\n",
        "\n",
        "    start_time = time.time()\n",
        "    keras_model.save('model_tensorflow.h5')\n",
        "    tensorflow_save_time = time.time() - start_time\n",
        "\n",
        "    tensorflow_file_size = os.path.getsize('model_tensorflow.h5')\n",
        "\n",
        "    start_time = time.time()\n",
        "    loaded_model_tf = tf.keras.models.load_model('model_tensorflow.h5')\n",
        "    tensorflow_load_time = time.time() - start_time\n",
        "\n",
        "    start_time = time.time()\n",
        "    tensorflow_pred = loaded_model_tf.predict(X_test)\n",
        "    tensorflow_predict_time = time.time() - start_time\n",
        "\n",
        "    # Results\n",
        "    results = {\n",
        "        'pickle': {\n",
        "            'save_time': pickle_save_time,\n",
        "            'load_time': pickle_load_time,\n",
        "            'size': pickle_file_size,\n",
        "            'pred_time': pickle_predict_time\n",
        "        },\n",
        "        'joblib': {\n",
        "            'save_time': joblib_save_time,\n",
        "            'load_time': joblib_load_time,\n",
        "            'size': joblib_file_size,\n",
        "            'pred_time': joblib_predict_time\n",
        "        },\n",
        "        'onnx': {\n",
        "            'save_time': onnx_save_time,\n",
        "            'load_time': onnx_load_time,\n",
        "            'size': onnx_file_size,\n",
        "            'pred_time': onnx_predict_time\n",
        "        },\n",
        "        'tensorflow': {\n",
        "            'save_time': tensorflow_save_time,\n",
        "            'load_time': tensorflow_load_time,\n",
        "            'size': tensorflow_file_size,\n",
        "            'pred_time': tensorflow_predict_time\n",
        "        }\n",
        "    }\n",
        "\n",
        "    return results\n",
        "\n",
        "# Run the experiment\n",
        "results = measure_performance(model, X_test)\n",
        "\n",
        "# Display the results\n",
        "for method, metrics in results.items():\n",
        "    print(f\"Method: {method}\")\n",
        "    for metric, value in metrics.items():\n",
        "        print(f\"  {metric}: {value:.5f}\")\n",
        "    print()\n"
      ],
      "metadata": {
        "colab": {
          "base_uri": "https://localhost:8080/"
        },
        "id": "5kf_JIJGWHPb",
        "outputId": "7a04e91f-6ba3-4309-c255-3a30c6539a3b"
      },
      "execution_count": 2,
      "outputs": [
        {
          "output_type": "stream",
          "name": "stderr",
          "text": [
            "/usr/local/lib/python3.10/dist-packages/keras/src/layers/core/dense.py:87: UserWarning: Do not pass an `input_shape`/`input_dim` argument to a layer. When using Sequential models, prefer using an `Input(shape)` object as the first layer in the model instead.\n",
            "  super().__init__(activity_regularizer=activity_regularizer, **kwargs)\n",
            "WARNING:absl:You are saving your model as an HDF5 file via `model.save()` or `keras.saving.save_model(model)`. This file format is considered legacy. We recommend using instead the native Keras format, e.g. `model.save('my_model.keras')` or `keras.saving.save_model(model, 'my_model.keras')`. \n",
            "WARNING:absl:Compiled the loaded model, but the compiled metrics have yet to be built. `model.compile_metrics` will be empty until you train or evaluate the model.\n"
          ]
        },
        {
          "output_type": "stream",
          "name": "stdout",
          "text": [
            "\u001b[1m1/1\u001b[0m \u001b[32m━━━━━━━━━━━━━━━━━━━━\u001b[0m\u001b[37m\u001b[0m \u001b[1m0s\u001b[0m 51ms/step\n",
            "Method: pickle\n",
            "  save_time: 0.00037\n",
            "  load_time: 0.00010\n",
            "  size: 834.00000\n",
            "  pred_time: 0.00050\n",
            "\n",
            "Method: joblib\n",
            "  save_time: 0.00130\n",
            "  load_time: 0.00067\n",
            "  size: 991.00000\n",
            "  pred_time: 0.00025\n",
            "\n",
            "Method: onnx\n",
            "  save_time: 0.01313\n",
            "  load_time: 0.00018\n",
            "  size: 686.00000\n",
            "  pred_time: 0.00032\n",
            "\n",
            "Method: tensorflow\n",
            "  save_time: 0.02091\n",
            "  load_time: 0.02939\n",
            "  size: 17960.00000\n",
            "  pred_time: 0.14243\n",
            "\n"
          ]
        }
      ]
    }
  ]
}